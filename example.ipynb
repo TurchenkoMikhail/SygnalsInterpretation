{
 "cells": [
  {
   "cell_type": "markdown",
   "id": "005f8d76",
   "metadata": {},
   "source": [
    "Юпитер - файл для примеров использования модели"
   ]
  },
  {
   "cell_type": "markdown",
   "id": "dee51fb9",
   "metadata": {},
   "source": [
    "Подключим библиотеки:"
   ]
  },
  {
   "cell_type": "code",
   "execution_count": 1,
   "id": "a6aed3c1",
   "metadata": {},
   "outputs": [
    {
     "name": "stdout",
     "output_type": "stream",
     "text": [
      "Importing the dtw module. When using in academic works please cite:\n",
      "  T. Giorgino. Computing and Visualizing Dynamic Time Warping Alignments in R: The dtw Package.\n",
      "  J. Stat. Soft., doi:10.18637/jss.v031.i07.\n",
      "\n"
     ]
    }
   ],
   "source": [
    "import random\n",
    "from src.audio_handler import audio_handler, transcribe\n",
    "from src.audio_handler.transcribe import cut_fillers_example, print_by_sentences\n",
    "import src.model\n",
    "\n",
    "import whisper_timestamped as whisper"
   ]
  },
  {
   "cell_type": "markdown",
   "id": "a62468e4",
   "metadata": {},
   "source": [
    "Укажем путь к искомым аудиофайлам:"
   ]
  },
  {
   "cell_type": "code",
   "execution_count": 2,
   "id": "5ce32116",
   "metadata": {},
   "outputs": [],
   "source": [
    "ex1 = '  Короче, я пришел домой и начал ужинать. Вскоре из окна начали кричать типа молодые люди и сильно шуметь. По факту ничего особенного и я без проблем уснул. Прикинь, если бы я проспал и в натуре бы опоздал'\n",
    "audio_file_path1 = \"dataset/cool_story.mp3\"\n",
    "\n",
    "ex2 = 'Машинное обучение — класс методов искусственного интеллекта, характерной чертой которых является непрямое решение задачи, а обучение — за счет применения решений множество сходных задач. Для построения таких методов используется средство математической статистики, численных методов, математического анализа, методов оптимизации, различные техники работы с данными в цифровой форме.'\n",
    "audio_file_path2 = \"dataset/audio_test.mp3\"\n",
    "\n",
    "new_audio_file_path = \"ans_cut.mp3\""
   ]
  },
  {
   "cell_type": "markdown",
   "id": "6f6a1a90",
   "metadata": {},
   "source": [
    "Функция cut_fillers_example возвращает интервалы времен, которые надо удалить из аудио. В них, по мнению модели, находятся слова-паразиты, которые спрятаны в VOCABULARY_PATH в src/model.py"
   ]
  },
  {
   "cell_type": "markdown",
   "id": "b764a541",
   "metadata": {},
   "source": [
    "Пример использования модели:"
   ]
  },
  {
   "cell_type": "code",
   "execution_count": 4,
   "id": "810d1b32",
   "metadata": {},
   "outputs": [
    {
     "name": "stderr",
     "output_type": "stream",
     "text": [
      "100%|██████████████████████████████████████████████████████████████████████████| 1466/1466 [00:25<00:00, 56.77frames/s]\n"
     ]
    },
    {
     "name": "stdout",
     "output_type": "stream",
     "text": [
      "короче, я пришел домой и начал ужинать.\n",
      "вскоре из окна начали кричать типа молодые люди и сильно шуметь.\n",
      "по факту ничего особенного и я без проблем уснул.\n",
      "прикинь, если бы я проспал и в натуре бы опоздал.\n"
     ]
    },
    {
     "name": "stderr",
     "output_type": "stream",
     "text": [
      "100%|██████████████████████████████████████████████████████████████████████████| 1466/1466 [00:26<00:00, 54.57frames/s]\n"
     ]
    },
    {
     "name": "stdout",
     "output_type": "stream",
     "text": [
      "[[38  1]\n",
      " [ 6  0]]\n",
      "              precision    recall  f1-score   support\n",
      "\n",
      "           0       0.86      0.97      0.92        39\n",
      "           1       0.00      0.00      0.00         6\n",
      "\n",
      "    accuracy                           0.84        45\n",
      "   macro avg       0.43      0.49      0.46        45\n",
      "weighted avg       0.75      0.84      0.79        45\n",
      "\n",
      "0.8444444444444444\n",
      "[[0.84372373 0.15627627]]\n",
      "Filler words in sentence: ['короче', 'типа', 'прикинь']\n"
     ]
    },
    {
     "name": "stderr",
     "output_type": "stream",
     "text": [
      "100%|██████████████████████████████████████████████████████████████████████████| 1336/1336 [00:25<00:00, 51.77frames/s]\n"
     ]
    },
    {
     "name": "stdout",
     "output_type": "stream",
     "text": [
      "я пришел домой и начал ужинать.\n",
      "вскоре из окна начали кричать по молодые люди и сильно шуметь.\n",
      "по факту ничего особенного и я без проблем уснул.\n",
      "если бы я проспал и в натуре бы опоздал.\n"
     ]
    }
   ],
   "source": [
    "if __name__ == \"__main__\":\n",
    "    #Обработка аудио\n",
    "    print_by_sentences(audio_file_path1)\n",
    "    start, end = cut_fillers_example(audio_file_path1, ex1)    \n",
    "    audio_handler.cut(audio_file_path1, start, end)\n",
    "    new_audio = audio_handler.cut(audio_file_path1, start, end)\n",
    "    new_audio.export(f\"ans_cut.mp3\", format=\"mp3\")\n",
    "    \n",
    "    #Прочитаем новое аудио\n",
    "    print_by_sentences(new_audio_file_path)"
   ]
  },
  {
   "cell_type": "code",
   "execution_count": null,
   "id": "45e34b7b",
   "metadata": {},
   "outputs": [],
   "source": []
  }
 ],
 "metadata": {
  "kernelspec": {
   "display_name": "Python 3 (ipykernel)",
   "language": "python",
   "name": "python3"
  },
  "language_info": {
   "codemirror_mode": {
    "name": "ipython",
    "version": 3
   },
   "file_extension": ".py",
   "mimetype": "text/x-python",
   "name": "python",
   "nbconvert_exporter": "python",
   "pygments_lexer": "ipython3",
   "version": "3.9.12"
  }
 },
 "nbformat": 4,
 "nbformat_minor": 5
}
