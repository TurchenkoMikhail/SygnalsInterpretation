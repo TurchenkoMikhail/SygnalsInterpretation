{
 "cells": [
  {
   "cell_type": "markdown",
   "id": "005f8d76",
   "metadata": {},
   "source": [
    "Юпитер - файл для примеров использования модели"
   ]
  },
  {
   "cell_type": "markdown",
   "id": "dee51fb9",
   "metadata": {},
   "source": [
    "Подключим библиотеки:"
   ]
  },
  {
   "cell_type": "code",
   "execution_count": 6,
   "id": "a6aed3c1",
   "metadata": {},
   "outputs": [],
   "source": [
    "import random\n",
    "from src.audio_handler import audio_handler, transcribe\n",
    "from src.audio_handler.transcribe import cut_fillers, print_by_sentences, get_text\n",
    "import src.model\n",
    "\n",
    "import whisper_timestamped as whisper"
   ]
  },
  {
   "cell_type": "markdown",
   "id": "a62468e4",
   "metadata": {},
   "source": [
    "Укажем путь к искомым аудиофайлам:"
   ]
  },
  {
   "cell_type": "code",
   "execution_count": 11,
   "id": "5ce32116",
   "metadata": {},
   "outputs": [],
   "source": [
    "ex1 = '  Короче, я пришел домой и начал ужинать. Вскоре из окна начали кричать типа молодые люди и сильно шуметь. По факту ничего особенного и я без проблем уснул. Прикинь, если бы я проспал и в натуре бы опоздал'\n",
    "audio_file_path1 = \"dataset/cool_story.mp3\"\n",
    "\n",
    "ex2 = 'Машинное обучение — класс методов искусственного интеллекта, характерной чертой которых является непрямое решение задачи, а обучение — за счет применения решений множество сходных задач. Для построения таких методов используется средство математической статистики, численных методов, математического анализа, методов оптимизации, различные техники работы с данными в цифровой форме.'\n",
    "audio_file_path2 = \"dataset/audio_test.mp3\"\n",
    "\n",
    "audio_file_path3 = \"24.mp3\"\n",
    "\n",
    "audio_file_path4 = \"10.mp3\"\n",
    "\n",
    "audio_file_path5 = \"81.mp3\"\n",
    "\n",
    "new_audio_file_path = \"ans_cut.mp3\""
   ]
  },
  {
   "cell_type": "markdown",
   "id": "6f6a1a90",
   "metadata": {},
   "source": [
    "Функция cut_fillers_example возвращает интервалы времен, которые надо удалить из аудио. В них, по мнению модели, находятся слова-паразиты, которые спрятаны в VOCABULARY_PATH в src/model.py"
   ]
  },
  {
   "cell_type": "markdown",
   "id": "b764a541",
   "metadata": {},
   "source": [
    "Пример использования модели:"
   ]
  },
  {
   "cell_type": "code",
   "execution_count": 8,
   "id": "45e34b7b",
   "metadata": {
    "scrolled": true
   },
   "outputs": [
    {
     "name": "stderr",
     "output_type": "stream",
     "text": [
      "100%|████████████████████████████████████████████████████████████████████████| 14109/14109 [04:19<00:00, 54.35frames/s]\n"
     ]
    },
    {
     "name": "stdout",
     "output_type": "stream",
     "text": [
      "Прочитано:\n",
      "может, мы что-то время не отнимать, сделаем, и потом уже придём.\n",
      "хорошо, давайте.\n",
      "я могу к ним вопрос про грит, сразу бы вас ещё поспрашивать планеты, какие есть в этот схем боевчок, как он работает, какие данные были для обучения? да, данные для обучения у нас немного их было, они излежат здесь.\n",
      "мы родили негативные позитивные, то есть те, которые имеют образит, те, которые не имеют.\n",
      "их до 300, а собирали мы их, я знаю, это сергей крутиков вопрос, он занимался датасетом, на каких-то ресурсах.\n",
      "соответственно, сама модель, у нас две.\n",
      "вот, тестировали мы на фигурисе магистической, но ещё у нас есть пример до обучениям берта, но он нестабильно работает, скажем так.\n",
      "но можно вот сюда вот дописать ваши примеры и протестировать.\n",
      "я по спорте помню, если вы на аудио обучались, а на текстах? да, мы на тексте обучались.\n",
      "аудио — это просто модель, которая просто переводит, потом вырезает уже.\n",
      "а какой модель вы взяли для аудио? ну вот, о чём я говорил, мы взяли это вырезка.\n",
      "мы взяли в айспер, настрой, который по этому.\n",
      "аудио возвращает, собственно, массив.\n"
     ]
    }
   ],
   "source": [
    "if __name__ == \"__main__\":\n",
    "    start, end = cut_fillers(audio_file_path3)\n",
    "    # Вырезание\n",
    "    ex_audio = audio_handler.cut(audio_file_path3, start, end)\n",
    "    ex_audio.export(f\"ans_cut{random.randint(1,100)}.mp3\", format=\"mp3\")"
   ]
  },
  {
   "cell_type": "code",
   "execution_count": 10,
   "id": "9718bf93",
   "metadata": {},
   "outputs": [
    {
     "name": "stderr",
     "output_type": "stream",
     "text": [
      "100%|██████████████████████████████████████████████████████████████████████████| 2058/2058 [00:42<00:00, 48.20frames/s]\n"
     ]
    },
    {
     "name": "stdout",
     "output_type": "stream",
     "text": [
      "Прочитано:\n",
      "короче, персик, который я так любил, не так давно начал давать плоды.\n",
      "и я типа не знал, что они здесь есть.\n",
      "ну да, я не видел их, но ведь они росли на деревьях.\n",
      "и вот однажды, короче, я заметил, что на одном из персик\n"
     ]
    }
   ],
   "source": [
    "if __name__ == \"__main__\":\n",
    "    start, end = cut_fillers(audio_file_path4)\n",
    "    # Вырезание\n",
    "    ex_audio = audio_handler.cut(audio_file_path4, start, end)\n",
    "    ex_audio.export(f\"ans_cut{random.randint(1,100)}.mp3\", format=\"mp3\")"
   ]
  },
  {
   "cell_type": "code",
   "execution_count": 12,
   "id": "022bf7a8",
   "metadata": {},
   "outputs": [
    {
     "name": "stderr",
     "output_type": "stream",
     "text": [
      "100%|██████████████████████████████████████████████████████████████████████████| 2001/2001 [00:36<00:00, 54.81frames/s]\n"
     ]
    },
    {
     "name": "stdout",
     "output_type": "stream",
     "text": [
      "Прочитано:\n",
      "короче, я думаю, что чем короче книга, тем меньше в ней вранья.\n",
      "от удав короче чем питон.\n",
      "от твои штаны короче чем мои, потому что моя нога длиннее.\n"
     ]
    }
   ],
   "source": [
    "if __name__ == \"__main__\":\n",
    "    start, end = cut_fillers(audio_file_path5)\n",
    "    # Вырезание\n",
    "    ex_audio = audio_handler.cut(audio_file_path5, start, end)\n",
    "    ex_audio.export(f\"ans_cut{random.randint(1,100)}.mp3\", format=\"mp3\")"
   ]
  },
  {
   "cell_type": "code",
   "execution_count": null,
   "id": "3e946ab1",
   "metadata": {},
   "outputs": [],
   "source": []
  }
 ],
 "metadata": {
  "kernelspec": {
   "display_name": "Python 3 (ipykernel)",
   "language": "python",
   "name": "python3"
  },
  "language_info": {
   "codemirror_mode": {
    "name": "ipython",
    "version": 3
   },
   "file_extension": ".py",
   "mimetype": "text/x-python",
   "name": "python",
   "nbconvert_exporter": "python",
   "pygments_lexer": "ipython3",
   "version": "3.9.12"
  }
 },
 "nbformat": 4,
 "nbformat_minor": 5
}
