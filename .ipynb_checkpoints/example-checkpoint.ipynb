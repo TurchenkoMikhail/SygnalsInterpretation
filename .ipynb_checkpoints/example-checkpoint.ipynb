{
 "cells": [
  {
   "cell_type": "markdown",
   "id": "005f8d76",
   "metadata": {},
   "source": [
    "Юпитер - файл для примеров использования модели"
   ]
  },
  {
   "cell_type": "markdown",
   "id": "dee51fb9",
   "metadata": {},
   "source": [
    "Подключим библиотеки:"
   ]
  },
  {
   "cell_type": "code",
   "execution_count": 5,
   "id": "a6aed3c1",
   "metadata": {},
   "outputs": [
    {
     "ename": "ImportError",
     "evalue": "cannot import name 'get_text' from 'src.audio_handler.transcribe' (C:\\Users\\vbif-\\source\\repos\\SygnalsInterpretation\\src\\audio_handler\\transcribe.py)",
     "output_type": "error",
     "traceback": [
      "\u001b[1;31m---------------------------------------------------------------------------\u001b[0m",
      "\u001b[1;31mImportError\u001b[0m                               Traceback (most recent call last)",
      "Cell \u001b[1;32mIn [5], line 3\u001b[0m\n\u001b[0;32m      1\u001b[0m \u001b[38;5;28;01mimport\u001b[39;00m \u001b[38;5;21;01mrandom\u001b[39;00m\n\u001b[0;32m      2\u001b[0m \u001b[38;5;28;01mfrom\u001b[39;00m \u001b[38;5;21;01msrc\u001b[39;00m\u001b[38;5;21;01m.\u001b[39;00m\u001b[38;5;21;01maudio_handler\u001b[39;00m \u001b[38;5;28;01mimport\u001b[39;00m audio_handler, transcribe\n\u001b[1;32m----> 3\u001b[0m \u001b[38;5;28;01mfrom\u001b[39;00m \u001b[38;5;21;01msrc\u001b[39;00m\u001b[38;5;21;01m.\u001b[39;00m\u001b[38;5;21;01maudio_handler\u001b[39;00m\u001b[38;5;21;01m.\u001b[39;00m\u001b[38;5;21;01mtranscribe\u001b[39;00m \u001b[38;5;28;01mimport\u001b[39;00m cut_fillers_example, print_by_sentences, get_text\n\u001b[0;32m      4\u001b[0m \u001b[38;5;28;01mimport\u001b[39;00m \u001b[38;5;21;01msrc\u001b[39;00m\u001b[38;5;21;01m.\u001b[39;00m\u001b[38;5;21;01mmodel\u001b[39;00m\n\u001b[0;32m      6\u001b[0m \u001b[38;5;28;01mimport\u001b[39;00m \u001b[38;5;21;01mwhisper_timestamped\u001b[39;00m \u001b[38;5;28;01mas\u001b[39;00m \u001b[38;5;21;01mwhisper\u001b[39;00m\n",
      "\u001b[1;31mImportError\u001b[0m: cannot import name 'get_text' from 'src.audio_handler.transcribe' (C:\\Users\\vbif-\\source\\repos\\SygnalsInterpretation\\src\\audio_handler\\transcribe.py)"
     ]
    }
   ],
   "source": [
    "import random\n",
    "from src.audio_handler import audio_handler, transcribe\n",
    "from src.audio_handler.transcribe import cut_fillers_example, print_by_sentences, get_text\n",
    "import src.model\n",
    "\n",
    "import whisper_timestamped as whisper"
   ]
  },
  {
   "cell_type": "markdown",
   "id": "a62468e4",
   "metadata": {},
   "source": [
    "Укажем путь к искомым аудиофайлам:"
   ]
  },
  {
   "cell_type": "code",
   "execution_count": 2,
   "id": "5ce32116",
   "metadata": {},
   "outputs": [],
   "source": [
    "ex1 = '  Короче, я пришел домой и начал ужинать. Вскоре из окна начали кричать типа молодые люди и сильно шуметь. По факту ничего особенного и я без проблем уснул. Прикинь, если бы я проспал и в натуре бы опоздал'\n",
    "audio_file_path1 = \"dataset/cool_story.mp3\"\n",
    "\n",
    "ex2 = 'Машинное обучение — класс методов искусственного интеллекта, характерной чертой которых является непрямое решение задачи, а обучение — за счет применения решений множество сходных задач. Для построения таких методов используется средство математической статистики, численных методов, математического анализа, методов оптимизации, различные техники работы с данными в цифровой форме.'\n",
    "audio_file_path2 = \"dataset/audio_test.mp3\"\n",
    "\n",
    "audio_file_path3 = \"voice.mp3\"\n",
    "\n",
    "new_audio_file_path = \"ans_cut.mp3\""
   ]
  },
  {
   "cell_type": "markdown",
   "id": "6f6a1a90",
   "metadata": {},
   "source": [
    "Функция cut_fillers_example возвращает интервалы времен, которые надо удалить из аудио. В них, по мнению модели, находятся слова-паразиты, которые спрятаны в VOCABULARY_PATH в src/model.py"
   ]
  },
  {
   "cell_type": "markdown",
   "id": "b764a541",
   "metadata": {},
   "source": [
    "Пример использования модели:"
   ]
  },
  {
   "cell_type": "code",
   "execution_count": 3,
   "id": "810d1b32",
   "metadata": {},
   "outputs": [
    {
     "name": "stderr",
     "output_type": "stream",
     "text": [
      "100%|███████████████████████████████████████████████████████████████████████| 14109/14109 [02:20<00:00, 100.07frames/s]\n"
     ]
    },
    {
     "name": "stdout",
     "output_type": "stream",
     "text": [
      "может, мы что-то время не отнимать, сделаем, и потом уже придём.\n",
      "хорошо, давайте.\n",
      "я могу к ним вопрос про грит, сразу бы вас ещё поспрашивать планеты, какие есть в этот схем боевчок, как он работает, какие данные были для обучения? да, данные для обучения у нас немного их было, они излежат здесь.\n",
      "мы родили негативные позитивные, то есть те, которые имеют образит, те, которые не имеют.\n",
      "их до 300, а собирали мы их, я знаю, это сергей крутиков вопрос, он занимался датасетом, на каких-то ресурсах.\n",
      "соответственно, сама модель, у нас две.\n",
      "вот, тестировали мы на фигурисе магистической, но ещё у нас есть пример до обучениям берта, но он нестабильно работает, скажем так.\n",
      "но можно вот сюда вот дописать ваши примеры и протестировать.\n",
      "я по спорте помню, если вы на аудио обучались, а на текстах? да, мы на тексте обучались.\n",
      "аудио — это просто модель, которая просто переводит, потом вырезает уже.\n",
      "а какой модель вы взяли для аудио? ну вот, о чём я говорил, мы взяли это вырезка.\n",
      "мы взяли в айспер, настрой, который по этому.\n",
      "аудио возвращает, собственно, массив.\n"
     ]
    },
    {
     "name": "stderr",
     "output_type": "stream",
     "text": [
      "100%|████████████████████████████████████████████████████████████████████████| 14109/14109 [02:58<00:00, 79.05frames/s]\n"
     ]
    },
    {
     "name": "stdout",
     "output_type": "stream",
     "text": [
      "[[38  1]\n",
      " [ 6  0]]\n",
      "              precision    recall  f1-score   support\n",
      "\n",
      "           0       0.86      0.97      0.92        39\n",
      "           1       0.00      0.00      0.00         6\n",
      "\n",
      "    accuracy                           0.84        45\n",
      "   macro avg       0.43      0.49      0.46        45\n",
      "weighted avg       0.75      0.84      0.79        45\n",
      "\n",
      "0.8444444444444444\n",
      "[[0.85167508 0.14832492]]\n",
      "Filler words in sentence: ['короче', 'типа', 'прикинь']\n"
     ]
    },
    {
     "name": "stderr",
     "output_type": "stream",
     "text": [
      "100%|████████████████████████████████████████████████████████████████████████| 13773/13773 [02:54<00:00, 79.13frames/s]\n"
     ]
    },
    {
     "name": "stdout",
     "output_type": "stream",
     "text": [
      "может мы что-то время не отнимать, делаем, и потом уже придем.\n",
      "хорошо, давайте.\n",
      "я могу к ним вопрос про грит, сразу бы вас еще поспрашивать планеты, какие...\n",
      "есть в этот схем боевчок, как он работает, какие данные будут для обучения? да, данные для обучения у нас немного их было, они излежат здесь.\n",
      "вот мы разъявили негативные позитивные, то есть те, которые имеют образит, те, которые не имеют.\n",
      "их там до 300, вот, достаточно немного.\n",
      "собирали мы их, не знаю, сергей крутиков, вопрос, он занимался бы с этой стороны, на каких-то ресурсах.\n",
      "соответственно, сама модель, у нас две, вот, тестировали мы на прогрессии магистической.\n",
      "вот, но еще у нас есть пример для обучения верта, но он нестабильно работает, как так.\n",
      "ну, может сюда дописать ваши примеры и протестировать.\n",
      "сейчас я поспроюсь, вы на аудио обучались, а на текстах? да, да, да, мы на тексте обучались. аудио это там модель, которая переводит, потом вырезает уже.\n",
      "а какой модель вы взяли для аудио? о чем я говорил, у нас есть, мы взяли вырезка. мы взяли в айспер, который, настройка, который по этому.\n",
      "аудио возвращает, собственно, массив.\n"
     ]
    }
   ],
   "source": [
    "if __name__ == \"__main__\":\n",
    "    #Обработка аудио\n",
    "    ex3 = get_text(audio_file_path3)\n",
    "    print_by_sentences(audio_file_path3)\n",
    "    start, end = cut_fillers_example(audio_file_path3, ex3)    \n",
    "    audio_handler.cut(audio_file_path3, start, end)\n",
    "    new_audio = audio_handler.cut(audio_file_path3, start, end)\n",
    "    new_audio.export(f\"ans_cut.mp3\", format=\"mp3\")\n",
    "    \n",
    "    #Прочитаем новое аудио\n",
    "    print_by_sentences(new_audio_file_path)"
   ]
  },
  {
   "cell_type": "code",
   "execution_count": null,
   "id": "45e34b7b",
   "metadata": {},
   "outputs": [],
   "source": []
  }
 ],
 "metadata": {
  "kernelspec": {
   "display_name": "Python 3 (ipykernel)",
   "language": "python",
   "name": "python3"
  },
  "language_info": {
   "codemirror_mode": {
    "name": "ipython",
    "version": 3
   },
   "file_extension": ".py",
   "mimetype": "text/x-python",
   "name": "python",
   "nbconvert_exporter": "python",
   "pygments_lexer": "ipython3",
   "version": "3.9.12"
  }
 },
 "nbformat": 4,
 "nbformat_minor": 5
}
